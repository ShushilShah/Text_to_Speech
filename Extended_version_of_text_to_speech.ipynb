{
 "cells": [
  {
   "cell_type": "markdown",
   "id": "e8cb7e71",
   "metadata": {},
   "source": [
    "# Importing libraries"
   ]
  },
  {
   "cell_type": "code",
   "execution_count": 3,
   "id": "82a07191",
   "metadata": {},
   "outputs": [],
   "source": [
    "import numpy as np\n",
    "from gtts import gTTS\n",
    "from IPython.display import Audio"
   ]
  },
  {
   "cell_type": "markdown",
   "id": "b03d31cc",
   "metadata": {},
   "source": [
    "# Taking input from the user"
   ]
  },
  {
   "cell_type": "code",
   "execution_count": 4,
   "id": "60156c4c",
   "metadata": {},
   "outputs": [
    {
     "name": "stdout",
     "output_type": "stream",
     "text": [
      "Enter the text that you want to convert into speechHello I am shushil shah\n",
      "The entered text is: Hello I am shushil shah\n"
     ]
    }
   ],
   "source": [
    "user_input = input(\"Enter the text that you want to convert into speech\")\n",
    "print(\"The entered text is:\",user_input)"
   ]
  },
  {
   "cell_type": "code",
   "execution_count": 5,
   "id": "98e5c09a",
   "metadata": {},
   "outputs": [],
   "source": [
    "tts = gTTS(user_input)"
   ]
  },
  {
   "cell_type": "markdown",
   "id": "e7d6c8d1",
   "metadata": {},
   "source": [
    "# Applying method"
   ]
  },
  {
   "cell_type": "code",
   "execution_count": 6,
   "id": "0f4efa7e",
   "metadata": {},
   "outputs": [],
   "source": [
    "tts.save('audio.wav')\n",
    "audio_file = 'audio.wav'"
   ]
  },
  {
   "cell_type": "markdown",
   "id": "f836b593",
   "metadata": {},
   "source": [
    "# Output"
   ]
  },
  {
   "cell_type": "code",
   "execution_count": 7,
   "id": "7a3b996b",
   "metadata": {},
   "outputs": [
    {
     "data": {
      "text/html": [
       "\n",
       "                <audio  controls=\"controls\" autoplay=\"autoplay\">\n",
       "                    <source src=\"data:audio/wav;base64,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\" type=\"audio/wav\" />\n",
       "                    Your browser does not support the audio element.\n",
       "                </audio>\n",
       "              "
      ],
      "text/plain": [
       "<IPython.lib.display.Audio object>"
      ]
     },
     "execution_count": 7,
     "metadata": {},
     "output_type": "execute_result"
    }
   ],
   "source": [
    "Audio(audio_file,autoplay=True)"
   ]
  },
  {
   "cell_type": "code",
   "execution_count": null,
   "id": "8f740496",
   "metadata": {},
   "outputs": [],
   "source": []
  }
 ],
 "metadata": {
  "kernelspec": {
   "display_name": "Python 3 (ipykernel)",
   "language": "python",
   "name": "python3"
  },
  "language_info": {
   "codemirror_mode": {
    "name": "ipython",
    "version": 3
   },
   "file_extension": ".py",
   "mimetype": "text/x-python",
   "name": "python",
   "nbconvert_exporter": "python",
   "pygments_lexer": "ipython3",
   "version": "3.11.0"
  }
 },
 "nbformat": 4,
 "nbformat_minor": 5
}
